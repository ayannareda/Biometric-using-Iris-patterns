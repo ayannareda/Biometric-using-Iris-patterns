{
 "cells": [
  {
   "cell_type": "markdown",
   "metadata": {},
   "source": [
    "## Loading Data"
   ]
  },
  {
   "cell_type": "code",
   "execution_count": 58,
   "metadata": {},
   "outputs": [],
   "source": [
    "import cv2\n",
    "import matplotlib.pyplot as plt\n",
    "import numpy as np"
   ]
  },
  {
   "cell_type": "code",
   "execution_count": 59,
   "metadata": {},
   "outputs": [],
   "source": [
    "### Load enrolled and testing data"
   ]
  },
  {
   "cell_type": "code",
   "execution_count": 60,
   "metadata": {},
   "outputs": [],
   "source": [
    "img_enrolled = cv2.imread('C:/Users/Mechanic/Iris Recognition/Test/Img_012_L_2.bmp')\n",
    "img_test_1   = cv2.imread('C:/Users/Mechanic/Iris Recognition/Test/Img_012_L_3.bmp')\n",
    "img_test_2   = cv2.imread('C:/Users/Mechanic/Iris Recognition/Test/Img_028_R_2.bmp')"
   ]
  },
  {
   "cell_type": "markdown",
   "metadata": {},
   "source": [
    "## Pre-Processing and finding pupil"
   ]
  },
  {
   "cell_type": "code",
   "execution_count": 64,
   "metadata": {},
   "outputs": [],
   "source": [
    "def pre_processing(image):\n",
    "    img = image[:, :, 0].copy()\n",
    "    img[img > 225] = 30\n",
    "    img = cv2.medianBlur(img, 21)\n",
    "    circles = cv2.HoughCircles(img, cv2.HOUGH_GRADIENT, 1, 20, param1=50, param2=30, minRadius=10, maxRadius=200)\n",
    "    circles = np.uint16(np.around(circles))\n",
    "    x = circles[0, 0][0]\n",
    "    y = circles[0, 0][1]\n",
    "    r = circles[0, 0][2]\n",
    "    return img, x, y, r"
   ]
  },
  {
   "cell_type": "code",
   "execution_count": 65,
   "metadata": {},
   "outputs": [],
   "source": [
    "enr, enr_x, enr_y, enr_r = pre_processing(img_enrolled)\n",
    "test1, test_1_x, test_1_y, test_1_r   = pre_processing(img_test_1)\n",
    "test2, test_2_x, test_2_y, test_2_r = pre_processing(img_test_2)"
   ]
  },
  {
   "cell_type": "markdown",
   "metadata": {},
   "source": [
    "## Finding iris "
   ]
  },
  {
   "cell_type": "code",
   "execution_count": 66,
   "metadata": {},
   "outputs": [],
   "source": [
    "def find_iris_id(img, x, y, r):\n",
    "    x, y, r, l = find_segment(img, x, y, minr=max(int(1.25 * r), 100),\n",
    "                              sigma=5, center_margin=30, jump=5)\n",
    "    x, y, r, l = find_segment(img, x, y, minr=r - 10, maxr=r + 10,\n",
    "                              sigma=2, center_margin=5, jump=1)\n",
    "    return x, y, r"
   ]
  },
  {
   "cell_type": "code",
   "execution_count": 67,
   "metadata": {},
   "outputs": [],
   "source": [
    "def find_segment(img, x0, y0, minr=0, maxr=500, step=1, sigma=5., center_margin=30, segment_type='iris', jump=1):\n",
    "    max_o = 0\n",
    "    max_l = []\n",
    "\n",
    "    if img.ndim > 2:\n",
    "        img = img[:, :, 0]\n",
    "    margin_img = np.pad(img, maxr, 'edge')\n",
    "    x0 += maxr\n",
    "    y0 += maxr\n",
    "    for x in range(x0 - center_margin, x0 + center_margin + 1, jump):\n",
    "        for y in range(y0 - center_margin, y0 + center_margin + 1, jump):\n",
    "            if segment_type == 'pupil':\n",
    "                l = np.array([integrate(margin_img, y, x, r) for r in range(minr, maxr, step)])\n",
    "            else:\n",
    "                l = np.array([integrate(margin_img, y, x, r, 1 / 8, 3 / 8, n=8) +\n",
    "                              integrate(margin_img, y, x, r, 5 / 8, 7 / 8, n=8)\n",
    "                              for r in range(minr + abs(x0 - x) + abs(y0 - y), maxr, step)])\n",
    "            l = (l[2:] - l[:-2]) / 2\n",
    "            l = gaussian_filter(l, sigma)\n",
    "            l = np.abs(l)\n",
    "            max_c = np.max(l)\n",
    "            if max_c > max_o:\n",
    "                max_o = max_c\n",
    "                max_l = l\n",
    "                max_x, max_y = x, y\n",
    "                r = np.argmax(l) * step + minr + abs(x0 - x) + abs(y0 - y)\n",
    "\n",
    "    return max_x - maxr, max_y - maxr, r, max_l"
   ]
  },
  {
   "cell_type": "code",
   "execution_count": 68,
   "metadata": {},
   "outputs": [],
   "source": [
    "import math\n",
    "from scipy.ndimage.filters import gaussian_filter"
   ]
  },
  {
   "cell_type": "code",
   "execution_count": 69,
   "metadata": {},
   "outputs": [],
   "source": [
    "def integrate(img, x0, y0, r, arc_start=0, arc_end=1, n=10):\n",
    "    theta = 2 * math.pi / n\n",
    "    integral = 0\n",
    "    for step in np.arange(arc_start * n, arc_end * n, arc_end - arc_start):\n",
    "        x = int(x0 + r * math.cos(step * theta))\n",
    "        y = int(y0 + r * math.sin(step * theta))\n",
    "        integral += img[x, y]\n",
    "    return integral / n"
   ]
  },
  {
   "cell_type": "code",
   "execution_count": 70,
   "metadata": {},
   "outputs": [],
   "source": [
    "enr_x_iris, enr_y_iris, enr_r_iris       = find_iris_id(enr, enr_x, enr_y, enr_r)\n",
    "test1_x_iris, test1_y_iris, test1_r_iris = find_iris_id(test1, test_1_x, test_1_y, test_1_r)\n",
    "test2_x_iris, test2_y_iris, test2_r_iris = find_iris_id(test2, test_2_x, test_2_y, test_2_r)"
   ]
  },
  {
   "cell_type": "markdown",
   "metadata": {},
   "source": [
    "## Converting Polar to Cart"
   ]
  },
  {
   "cell_type": "code",
   "execution_count": 72,
   "metadata": {},
   "outputs": [],
   "source": [
    "def polar2cart(r, x0, y0, theta):\n",
    "    x = int(x0 + r * math.cos(theta))\n",
    "    y = int(y0 + r * math.sin(theta))\n",
    "    return x, y"
   ]
  },
  {
   "cell_type": "code",
   "execution_count": 73,
   "metadata": {},
   "outputs": [],
   "source": [
    "def unravel_iris(image, xp, yp, rp, xi, yi, ri):\n",
    "    if image.ndim > 2:\n",
    "        image = image[:, :, 0].copy()\n",
    "    iris = np.zeros((150, 300))\n",
    "    theta = np.linspace(0, 2 * np.pi, 300)\n",
    "    for i in range(300):\n",
    "        begin = polar2cart(rp, xp, yp, theta[i])\n",
    "        end = polar2cart(ri, xi, yi, theta[i])\n",
    "        xspace = np.linspace(begin[0], end[0], 150)\n",
    "        yspace = np.linspace(begin[1], end[1], 150)\n",
    "        iris[:, i] = [255 - image[int(y), int(x)]\n",
    "                      if 0 <= int(x) < image.shape[1] and 0 <= int(y) < image.shape[0]\n",
    "                      else 0\n",
    "                      for x,y in zip(xspace, yspace)]\n",
    "    return iris"
   ]
  },
  {
   "cell_type": "code",
   "execution_count": 74,
   "metadata": {},
   "outputs": [],
   "source": [
    "enr_iris   =  unravel_iris(img_enrolled, enr_x, enr_y, enr_r, enr_x_iris, enr_y_iris, enr_r_iris)\n",
    "test1_iris =  unravel_iris(img_test_1, test_1_x, test_1_y, test_1_r, test1_x_iris, test1_y_iris, test1_r_iris)\n",
    "test2_iris =  unravel_iris(img_test_2, test_2_x, test_2_y, test_2_r, test2_x_iris, test2_y_iris, test2_r_iris)"
   ]
  },
  {
   "cell_type": "markdown",
   "metadata": {},
   "source": [
    "## Extracting Features"
   ]
  },
  {
   "cell_type": "code",
   "execution_count": 76,
   "metadata": {},
   "outputs": [],
   "source": [
    "from skimage.util import view_as_blocks"
   ]
  },
  {
   "cell_type": "code",
   "execution_count": 77,
   "metadata": {},
   "outputs": [],
   "source": [
    "def gabor_convolve(img, w, alpha, beta):\n",
    "    rho = np.array([np.linspace(0, 1, img.shape[0]) for i in range(img.shape[1])]).T\n",
    "    x = np.linspace(0, 1, img.shape[0])\n",
    "    y = np.linspace(-np.pi, np.pi, img.shape[1])\n",
    "    xx, yy = np.meshgrid(x, y)\n",
    "    qwerty = np.exp(-w * 1j * (0 - yy)) * np.exp(-(xx - 0.5) ** 2 / alpha ** 2) * \\\n",
    "                                                    np.exp(-(yy - 0) ** 2 / beta ** 2)\n",
    "    return rho * img * np.real(qwerty.T), \\\n",
    "           rho * img * np.imag(qwerty.T)"
   ]
  },
  {
   "cell_type": "code",
   "execution_count": 78,
   "metadata": {},
   "outputs": [],
   "source": [
    "def iris_encode(img, dr=15, dtheta=15, alpha=0.4):\n",
    "    \"\"\"Encodes the straightened representation of an iris with gabor wavelets.\n",
    "\n",
    "    :param img: Image of an iris\n",
    "    :param dr: Width of image patches producing one feature\n",
    "    :param dtheta: Length of image patches producing one feature\n",
    "    :param alpha: Gabor wavelets modifier (beta parameter of Gabor wavelets becomes inverse of this number)\n",
    "    :return: Iris code and its mask\n",
    "    :rtype: tuple (ndarray, ndarray)\n",
    "    \"\"\"\n",
    "    # mean = np.mean(img)\n",
    "    # std = img.std()\n",
    "    mask = view_as_blocks(np.logical_and(100 < img, img < 230), (dr, dtheta))\n",
    "    norm_iris = (img - img.mean()) / img.std()\n",
    "    patches = view_as_blocks(norm_iris, (dr, dtheta))\n",
    "    code = np.zeros((patches.shape[0] * 3, patches.shape[1] * 2))\n",
    "    code_mask = np.zeros((patches.shape[0] * 3, patches.shape[1] * 2))\n",
    "    for i, row in enumerate(patches):\n",
    "        for j, p in enumerate(row):\n",
    "            for k, w in enumerate([8, 16, 32]):\n",
    "                wavelet = gabor_convolve(p, w, alpha, 1 / alpha)\n",
    "                code[3 * i + k, 2 * j] = np.sum(wavelet[0])\n",
    "                code[3 * i + k, 2 * j + 1] = np.sum(wavelet[1])\n",
    "                code_mask[3 * i + k, 2 * j] = code_mask[3 * i + k, 2 * j + 1] = \\\n",
    "                    1 if mask[i, j].sum() > dr * dtheta * 3 / 4 else 0\n",
    "    code[code >= 0] = 1\n",
    "    code[code < 0] = 0\n",
    "    return code, code_mask"
   ]
  },
  {
   "cell_type": "code",
   "execution_count": 79,
   "metadata": {},
   "outputs": [],
   "source": [
    "enr_code, enr_mask = iris_encode(enr_iris)\n",
    "test1_code, test1_mask = iris_encode(test1_iris)\n",
    "test2_code, test2_mask = iris_encode(test2_iris)"
   ]
  },
  {
   "cell_type": "markdown",
   "metadata": {},
   "source": [
    "## Finding similairity using Jaccard Index"
   ]
  },
  {
   "cell_type": "code",
   "execution_count": 81,
   "metadata": {},
   "outputs": [],
   "source": [
    "def compare_codes(a, b, mask_a, mask_b, rotation=False):\n",
    "    \"\"\"Compares two codes and calculates Jaccard index.\n",
    "\n",
    "    :param a: Code of the first iris\n",
    "    :param b: Code of the second iris\n",
    "    :param mask_a: Mask of the first iris\n",
    "    :param mask_b: Mask of the second iris\n",
    "    :param rotation: Maximum cyclic rotation of the code. If this argument is greater than zero, the function will\n",
    "        return minimal distance of all code rotations. If this argument is False, no rotations are calculated.\n",
    "\n",
    "    :return: Distance between two codes.\n",
    "    \"\"\"\n",
    "    if rotation:\n",
    "        d = []\n",
    "        for i in range(-rotation, rotation + 1):\n",
    "            c = np.roll(b, i, axis=1)\n",
    "            mask_c = np.roll(mask_b, i, axis=1)\n",
    "            d.append(np.sum(np.remainder(a + c, 2) * mask_a * mask_c) / np.sum(mask_a * mask_c))\n",
    "        return np.min(d)\n",
    "    return np.sum(np.remainder(a + b, 2) * mask_a * mask_b) / np.sum(mask_a * mask_b)"
   ]
  },
  {
   "cell_type": "code",
   "execution_count": 82,
   "metadata": {},
   "outputs": [],
   "source": [
    "similiarity = compare_codes(enr_code, test1_code, enr_mask, test1_mask)\n",
    "similiarity2 = compare_codes(enr_code, test2_code, enr_mask, test2_mask)"
   ]
  },
  {
   "cell_type": "code",
   "execution_count": 83,
   "metadata": {},
   "outputs": [
    {
     "name": "stdout",
     "output_type": "stream",
     "text": [
      "0.315\n",
      "0.5025252525252525\n"
     ]
    }
   ],
   "source": [
    "print (similiarity)\n",
    "print (similiarity2)"
   ]
  }
 ],
 "metadata": {
  "kernelspec": {
   "display_name": "Python 3",
   "language": "python",
   "name": "python3"
  },
  "language_info": {
   "codemirror_mode": {
    "name": "ipython",
    "version": 3
   },
   "file_extension": ".py",
   "mimetype": "text/x-python",
   "name": "python",
   "nbconvert_exporter": "python",
   "pygments_lexer": "ipython3",
   "version": "3.7.6"
  }
 },
 "nbformat": 4,
 "nbformat_minor": 4
}
